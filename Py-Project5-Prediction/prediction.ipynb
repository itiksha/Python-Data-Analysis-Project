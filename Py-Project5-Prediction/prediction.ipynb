{
 "cells": [
  {
   "cell_type": "code",
   "execution_count": 2,
   "metadata": {},
   "outputs": [],
   "source": [
    "import pandas as pd "
   ]
  },
  {
   "cell_type": "code",
   "execution_count": 3,
   "metadata": {},
   "outputs": [
    {
     "name": "stderr",
     "output_type": "stream",
     "text": [
      "C:\\Users\\ItikshaMittal(Annale\\AppData\\Local\\Temp\\ipykernel_18396\\2436251789.py:1: FutureWarning: The argument 'infer_datetime_format' is deprecated and will be removed in a future version. A strict version of it is now the default, see https://pandas.pydata.org/pdeps/0004-consistent-to-datetime-parsing.html. You can safely remove this argument.\n",
      "  stockprices = pd.read_csv(r\"c:\\Users\\ItikshaMittal(Annale\\OneDrive - OneWorkplace (1)\\Desktop\\Python\\Py-Project5-Prediction\\data.csv\", infer_datetime_format= True )\n"
     ]
    }
   ],
   "source": [
    "stockprices = pd.read_csv(r\"c:\\Users\\ItikshaMittal(Annale\\OneDrive - OneWorkplace (1)\\Desktop\\Python\\Py-Project5-Prediction\\data.csv\", infer_datetime_format= True )"
   ]
  },
  {
   "cell_type": "code",
   "execution_count": 4,
   "metadata": {},
   "outputs": [
    {
     "data": {
      "text/html": [
       "<div>\n",
       "<style scoped>\n",
       "    .dataframe tbody tr th:only-of-type {\n",
       "        vertical-align: middle;\n",
       "    }\n",
       "\n",
       "    .dataframe tbody tr th {\n",
       "        vertical-align: top;\n",
       "    }\n",
       "\n",
       "    .dataframe thead th {\n",
       "        text-align: right;\n",
       "    }\n",
       "</style>\n",
       "<table border=\"1\" class=\"dataframe\">\n",
       "  <thead>\n",
       "    <tr style=\"text-align: right;\">\n",
       "      <th></th>\n",
       "      <th>Date</th>\n",
       "      <th>Close</th>\n",
       "    </tr>\n",
       "  </thead>\n",
       "  <tbody>\n",
       "    <tr>\n",
       "      <th>0</th>\n",
       "      <td>02-01-2023</td>\n",
       "      <td>₹ 343.55</td>\n",
       "    </tr>\n",
       "    <tr>\n",
       "      <th>1</th>\n",
       "      <td>03-01-2023</td>\n",
       "      <td>₹ 343.65</td>\n",
       "    </tr>\n",
       "    <tr>\n",
       "      <th>2</th>\n",
       "      <td>04-01-2023</td>\n",
       "      <td>₹ 347.45</td>\n",
       "    </tr>\n",
       "    <tr>\n",
       "      <th>3</th>\n",
       "      <td>05-01-2023</td>\n",
       "      <td>₹ 349.00</td>\n",
       "    </tr>\n",
       "    <tr>\n",
       "      <th>4</th>\n",
       "      <td>06-01-2023</td>\n",
       "      <td>₹ 345.10</td>\n",
       "    </tr>\n",
       "    <tr>\n",
       "      <th>...</th>\n",
       "      <td>...</td>\n",
       "      <td>...</td>\n",
       "    </tr>\n",
       "    <tr>\n",
       "      <th>235</th>\n",
       "      <td>NaN</td>\n",
       "      <td>NaN</td>\n",
       "    </tr>\n",
       "    <tr>\n",
       "      <th>236</th>\n",
       "      <td>NaN</td>\n",
       "      <td>NaN</td>\n",
       "    </tr>\n",
       "    <tr>\n",
       "      <th>237</th>\n",
       "      <td>NaN</td>\n",
       "      <td>NaN</td>\n",
       "    </tr>\n",
       "    <tr>\n",
       "      <th>238</th>\n",
       "      <td>NaN</td>\n",
       "      <td>NaN</td>\n",
       "    </tr>\n",
       "    <tr>\n",
       "      <th>239</th>\n",
       "      <td>NaN</td>\n",
       "      <td>NaN</td>\n",
       "    </tr>\n",
       "  </tbody>\n",
       "</table>\n",
       "<p>240 rows × 2 columns</p>\n",
       "</div>"
      ],
      "text/plain": [
       "           Date       Close\n",
       "0    02-01-2023   ₹ 343.55 \n",
       "1    03-01-2023   ₹ 343.65 \n",
       "2    04-01-2023   ₹ 347.45 \n",
       "3    05-01-2023   ₹ 349.00 \n",
       "4    06-01-2023   ₹ 345.10 \n",
       "..          ...         ...\n",
       "235         NaN         NaN\n",
       "236         NaN         NaN\n",
       "237         NaN         NaN\n",
       "238         NaN         NaN\n",
       "239         NaN         NaN\n",
       "\n",
       "[240 rows x 2 columns]"
      ]
     },
     "execution_count": 4,
     "metadata": {},
     "output_type": "execute_result"
    }
   ],
   "source": [
    "stockprices"
   ]
  },
  {
   "cell_type": "code",
   "execution_count": 5,
   "metadata": {},
   "outputs": [
    {
     "name": "stdout",
     "output_type": "stream",
     "text": [
      "260 µs ± 7.36 µs per loop (mean ± std. dev. of 7 runs, 1,000 loops each)\n"
     ]
    }
   ],
   "source": [
    "%timeit stockprices.dropna()"
   ]
  },
  {
   "cell_type": "code",
   "execution_count": 6,
   "metadata": {},
   "outputs": [
    {
     "data": {
      "text/html": [
       "<div>\n",
       "<style scoped>\n",
       "    .dataframe tbody tr th:only-of-type {\n",
       "        vertical-align: middle;\n",
       "    }\n",
       "\n",
       "    .dataframe tbody tr th {\n",
       "        vertical-align: top;\n",
       "    }\n",
       "\n",
       "    .dataframe thead th {\n",
       "        text-align: right;\n",
       "    }\n",
       "</style>\n",
       "<table border=\"1\" class=\"dataframe\">\n",
       "  <thead>\n",
       "    <tr style=\"text-align: right;\">\n",
       "      <th></th>\n",
       "      <th>Date</th>\n",
       "      <th>Close</th>\n",
       "    </tr>\n",
       "  </thead>\n",
       "  <tbody>\n",
       "    <tr>\n",
       "      <th>0</th>\n",
       "      <td>02-01-2023</td>\n",
       "      <td>₹ 343.55</td>\n",
       "    </tr>\n",
       "    <tr>\n",
       "      <th>1</th>\n",
       "      <td>03-01-2023</td>\n",
       "      <td>₹ 343.65</td>\n",
       "    </tr>\n",
       "    <tr>\n",
       "      <th>2</th>\n",
       "      <td>04-01-2023</td>\n",
       "      <td>₹ 347.45</td>\n",
       "    </tr>\n",
       "    <tr>\n",
       "      <th>3</th>\n",
       "      <td>05-01-2023</td>\n",
       "      <td>₹ 349.00</td>\n",
       "    </tr>\n",
       "    <tr>\n",
       "      <th>4</th>\n",
       "      <td>06-01-2023</td>\n",
       "      <td>₹ 345.10</td>\n",
       "    </tr>\n",
       "    <tr>\n",
       "      <th>...</th>\n",
       "      <td>...</td>\n",
       "      <td>...</td>\n",
       "    </tr>\n",
       "    <tr>\n",
       "      <th>235</th>\n",
       "      <td>NaN</td>\n",
       "      <td>NaN</td>\n",
       "    </tr>\n",
       "    <tr>\n",
       "      <th>236</th>\n",
       "      <td>NaN</td>\n",
       "      <td>NaN</td>\n",
       "    </tr>\n",
       "    <tr>\n",
       "      <th>237</th>\n",
       "      <td>NaN</td>\n",
       "      <td>NaN</td>\n",
       "    </tr>\n",
       "    <tr>\n",
       "      <th>238</th>\n",
       "      <td>NaN</td>\n",
       "      <td>NaN</td>\n",
       "    </tr>\n",
       "    <tr>\n",
       "      <th>239</th>\n",
       "      <td>NaN</td>\n",
       "      <td>NaN</td>\n",
       "    </tr>\n",
       "  </tbody>\n",
       "</table>\n",
       "<p>240 rows × 2 columns</p>\n",
       "</div>"
      ],
      "text/plain": [
       "           Date       Close\n",
       "0    02-01-2023   ₹ 343.55 \n",
       "1    03-01-2023   ₹ 343.65 \n",
       "2    04-01-2023   ₹ 347.45 \n",
       "3    05-01-2023   ₹ 349.00 \n",
       "4    06-01-2023   ₹ 345.10 \n",
       "..          ...         ...\n",
       "235         NaN         NaN\n",
       "236         NaN         NaN\n",
       "237         NaN         NaN\n",
       "238         NaN         NaN\n",
       "239         NaN         NaN\n",
       "\n",
       "[240 rows x 2 columns]"
      ]
     },
     "execution_count": 6,
     "metadata": {},
     "output_type": "execute_result"
    }
   ],
   "source": [
    "stockprices"
   ]
  },
  {
   "cell_type": "code",
   "execution_count": 7,
   "metadata": {},
   "outputs": [],
   "source": [
    "Manipulated = pd.read_csv(r'C:\\Users\\ItikshaMittal(Annale\\OneDrive - OneWorkplace (1)\\Desktop\\Prediction\\Manipulated.csv')"
   ]
  },
  {
   "cell_type": "code",
   "execution_count": 8,
   "metadata": {},
   "outputs": [
    {
     "data": {
      "text/html": [
       "<div>\n",
       "<style scoped>\n",
       "    .dataframe tbody tr th:only-of-type {\n",
       "        vertical-align: middle;\n",
       "    }\n",
       "\n",
       "    .dataframe tbody tr th {\n",
       "        vertical-align: top;\n",
       "    }\n",
       "\n",
       "    .dataframe thead th {\n",
       "        text-align: right;\n",
       "    }\n",
       "</style>\n",
       "<table border=\"1\" class=\"dataframe\">\n",
       "  <thead>\n",
       "    <tr style=\"text-align: right;\">\n",
       "      <th></th>\n",
       "      <th>Price</th>\n",
       "      <th>Value</th>\n",
       "    </tr>\n",
       "  </thead>\n",
       "  <tbody>\n",
       "    <tr>\n",
       "      <th>0</th>\n",
       "      <td>45</td>\n",
       "      <td>45</td>\n",
       "    </tr>\n",
       "    <tr>\n",
       "      <th>1</th>\n",
       "      <td>36</td>\n",
       "      <td>37</td>\n",
       "    </tr>\n",
       "    <tr>\n",
       "      <th>2</th>\n",
       "      <td>38</td>\n",
       "      <td>68</td>\n",
       "    </tr>\n",
       "    <tr>\n",
       "      <th>3</th>\n",
       "      <td>44</td>\n",
       "      <td>44</td>\n",
       "    </tr>\n",
       "    <tr>\n",
       "      <th>4</th>\n",
       "      <td>59</td>\n",
       "      <td>80</td>\n",
       "    </tr>\n",
       "  </tbody>\n",
       "</table>\n",
       "</div>"
      ],
      "text/plain": [
       "   Price  Value\n",
       "0     45     45\n",
       "1     36     37\n",
       "2     38     68\n",
       "3     44     44\n",
       "4     59     80"
      ]
     },
     "execution_count": 8,
     "metadata": {},
     "output_type": "execute_result"
    }
   ],
   "source": [
    "Manipulated"
   ]
  },
  {
   "cell_type": "code",
   "execution_count": 9,
   "metadata": {},
   "outputs": [],
   "source": [
    "from datetime import datetime as dt"
   ]
  },
  {
   "cell_type": "code",
   "execution_count": null,
   "metadata": {},
   "outputs": [
    {
     "data": {
      "text/html": [
       "<div>\n",
       "<style scoped>\n",
       "    .dataframe tbody tr th:only-of-type {\n",
       "        vertical-align: middle;\n",
       "    }\n",
       "\n",
       "    .dataframe tbody tr th {\n",
       "        vertical-align: top;\n",
       "    }\n",
       "\n",
       "    .dataframe thead th {\n",
       "        text-align: right;\n",
       "    }\n",
       "</style>\n",
       "<table border=\"1\" class=\"dataframe\">\n",
       "  <thead>\n",
       "    <tr style=\"text-align: right;\">\n",
       "      <th></th>\n",
       "      <th>Date</th>\n",
       "      <th>Close</th>\n",
       "    </tr>\n",
       "  </thead>\n",
       "  <tbody>\n",
       "    <tr>\n",
       "      <th>0</th>\n",
       "      <td>02-01-2023</td>\n",
       "      <td>₹ 343.55</td>\n",
       "    </tr>\n",
       "    <tr>\n",
       "      <th>1</th>\n",
       "      <td>03-01-2023</td>\n",
       "      <td>₹ 343.65</td>\n",
       "    </tr>\n",
       "    <tr>\n",
       "      <th>2</th>\n",
       "      <td>04-01-2023</td>\n",
       "      <td>₹ 347.45</td>\n",
       "    </tr>\n",
       "    <tr>\n",
       "      <th>3</th>\n",
       "      <td>05-01-2023</td>\n",
       "      <td>₹ 349.00</td>\n",
       "    </tr>\n",
       "    <tr>\n",
       "      <th>4</th>\n",
       "      <td>06-01-2023</td>\n",
       "      <td>₹ 345.10</td>\n",
       "    </tr>\n",
       "  </tbody>\n",
       "</table>\n",
       "</div>"
      ],
      "text/plain": [
       "         Date       Close\n",
       "0  02-01-2023   ₹ 343.55 \n",
       "1  03-01-2023   ₹ 343.65 \n",
       "2  04-01-2023   ₹ 347.45 \n",
       "3  05-01-2023   ₹ 349.00 \n",
       "4  06-01-2023   ₹ 345.10 "
      ]
     },
     "execution_count": 67,
     "metadata": {},
     "output_type": "execute_result"
    }
   ],
   "source": [
    "stockprices.head()"
   ]
  },
  {
   "cell_type": "code",
   "execution_count": null,
   "metadata": {},
   "outputs": [],
   "source": [
    "Manipulated['Date'] = pd.to_datetime(Manipulated['Date'])\n",
    "Manipulated['Year'] = Manipulated['Date'].dt.year\n",
    "Manipulated['Month'] = Manipulated['Date'].dt.month\n",
    "Manipulated['Day'] = Manipulated['Date'].dt.day\n"
   ]
  },
  {
   "cell_type": "code",
   "execution_count": null,
   "metadata": {},
   "outputs": [
    {
     "data": {
      "text/plain": [
       "0   2023-01-12\n",
       "1   2023-02-12\n",
       "2   2023-03-12\n",
       "3   2023-04-12\n",
       "Name: Date, dtype: datetime64[ns]"
      ]
     },
     "execution_count": 95,
     "metadata": {},
     "output_type": "execute_result"
    }
   ],
   "source": [
    "Manipulated['Date']"
   ]
  },
  {
   "cell_type": "code",
   "execution_count": null,
   "metadata": {},
   "outputs": [
    {
     "data": {
      "text/plain": [
       "0   2012-01-23\n",
       "1   2012-02-23\n",
       "2   2012-03-23\n",
       "3   2012-04-23\n",
       "Name: Date, dtype: datetime64[ns]"
      ]
     },
     "execution_count": 114,
     "metadata": {},
     "output_type": "execute_result"
    }
   ],
   "source": [
    "Manipulated['Date'] = pd.to_datetime(Manipulated['Date'], format='%D-%M-%Y')\n",
    "Manipulated['Date']"
   ]
  },
  {
   "cell_type": "code",
   "execution_count": null,
   "metadata": {},
   "outputs": [
    {
     "data": {
      "text/html": [
       "<div>\n",
       "<style scoped>\n",
       "    .dataframe tbody tr th:only-of-type {\n",
       "        vertical-align: middle;\n",
       "    }\n",
       "\n",
       "    .dataframe tbody tr th {\n",
       "        vertical-align: top;\n",
       "    }\n",
       "\n",
       "    .dataframe thead th {\n",
       "        text-align: right;\n",
       "    }\n",
       "</style>\n",
       "<table border=\"1\" class=\"dataframe\">\n",
       "  <thead>\n",
       "    <tr style=\"text-align: right;\">\n",
       "      <th></th>\n",
       "      <th>Date</th>\n",
       "      <th>Unnamed: 1</th>\n",
       "      <th>Year</th>\n",
       "      <th>Month</th>\n",
       "      <th>Day</th>\n",
       "    </tr>\n",
       "  </thead>\n",
       "  <tbody>\n",
       "    <tr>\n",
       "      <th>0</th>\n",
       "      <td>2012-01-23</td>\n",
       "      <td>NaN</td>\n",
       "      <td>2023</td>\n",
       "      <td>1</td>\n",
       "      <td>12</td>\n",
       "    </tr>\n",
       "    <tr>\n",
       "      <th>1</th>\n",
       "      <td>2012-02-23</td>\n",
       "      <td>NaN</td>\n",
       "      <td>2023</td>\n",
       "      <td>2</td>\n",
       "      <td>12</td>\n",
       "    </tr>\n",
       "    <tr>\n",
       "      <th>2</th>\n",
       "      <td>2012-03-23</td>\n",
       "      <td>NaN</td>\n",
       "      <td>2023</td>\n",
       "      <td>3</td>\n",
       "      <td>12</td>\n",
       "    </tr>\n",
       "    <tr>\n",
       "      <th>3</th>\n",
       "      <td>2012-04-23</td>\n",
       "      <td>NaN</td>\n",
       "      <td>2023</td>\n",
       "      <td>4</td>\n",
       "      <td>12</td>\n",
       "    </tr>\n",
       "  </tbody>\n",
       "</table>\n",
       "</div>"
      ],
      "text/plain": [
       "        Date  Unnamed: 1  Year  Month  Day\n",
       "0 2012-01-23         NaN  2023      1   12\n",
       "1 2012-02-23         NaN  2023      2   12\n",
       "2 2012-03-23         NaN  2023      3   12\n",
       "3 2012-04-23         NaN  2023      4   12"
      ]
     },
     "execution_count": 115,
     "metadata": {},
     "output_type": "execute_result"
    }
   ],
   "source": [
    "Manipulated.head()"
   ]
  },
  {
   "cell_type": "code",
   "execution_count": null,
   "metadata": {},
   "outputs": [
    {
     "data": {
      "text/plain": [
       "0   2012-01-23\n",
       "1   2012-02-23\n",
       "2   2012-03-23\n",
       "3   2012-04-23\n",
       "Name: Date, dtype: datetime64[ns]"
      ]
     },
     "execution_count": 117,
     "metadata": {},
     "output_type": "execute_result"
    }
   ],
   "source": [
    "Manipulated['Date'] = pd.to_datetime(Manipulated['Date'])\n",
    "Manipulated['Date']"
   ]
  },
  {
   "cell_type": "code",
   "execution_count": null,
   "metadata": {},
   "outputs": [
    {
     "name": "stdout",
     "output_type": "stream",
     "text": [
      "<class 'pandas.core.frame.DataFrame'>\n",
      "RangeIndex: 240 entries, 0 to 239\n",
      "Data columns (total 2 columns):\n",
      " #   Column  Non-Null Count  Dtype \n",
      "---  ------  --------------  ----- \n",
      " 0   Date    232 non-null    object\n",
      " 1   Close   232 non-null    object\n",
      "dtypes: object(2)\n",
      "memory usage: 3.9+ KB\n"
     ]
    }
   ],
   "source": [
    "stockprices.info()"
   ]
  },
  {
   "cell_type": "code",
   "execution_count": null,
   "metadata": {},
   "outputs": [
    {
     "data": {
      "text/plain": [
       "0      02-01-2023\n",
       "1      03-01-2023\n",
       "2      04-01-2023\n",
       "3      05-01-2023\n",
       "4      06-01-2023\n",
       "          ...    \n",
       "235          <NA>\n",
       "236          <NA>\n",
       "237          <NA>\n",
       "238          <NA>\n",
       "239          <NA>\n",
       "Name: Date, Length: 240, dtype: string"
      ]
     },
     "execution_count": 123,
     "metadata": {},
     "output_type": "execute_result"
    }
   ],
   "source": [
    "stockprices['Date'].convert_dtypes('Datetime')"
   ]
  },
  {
   "cell_type": "code",
   "execution_count": null,
   "metadata": {},
   "outputs": [
    {
     "name": "stdout",
     "output_type": "stream",
     "text": [
      "<class 'pandas.core.frame.DataFrame'>\n",
      "RangeIndex: 240 entries, 0 to 239\n",
      "Data columns (total 2 columns):\n",
      " #   Column  Non-Null Count  Dtype \n",
      "---  ------  --------------  ----- \n",
      " 0   Date    232 non-null    object\n",
      " 1   Close   232 non-null    object\n",
      "dtypes: object(2)\n",
      "memory usage: 3.9+ KB\n"
     ]
    }
   ],
   "source": [
    "stockprices.info()"
   ]
  },
  {
   "cell_type": "code",
   "execution_count": null,
   "metadata": {},
   "outputs": [],
   "source": [
    "stockprices.columns = ['Date','Close']"
   ]
  },
  {
   "cell_type": "code",
   "execution_count": null,
   "metadata": {},
   "outputs": [],
   "source": [
    "stockprices['Sale_LastMonth'] = stockprices['Close'].shift(+1)\n",
    "stockprices['Sale_2Monthback'] = stockprices['Close'].shift(+2)\n",
    "stockprices['Sale_3LastMonth'] = stockprices['Close'].shift(+3)"
   ]
  },
  {
   "cell_type": "code",
   "execution_count": null,
   "metadata": {},
   "outputs": [
    {
     "data": {
      "text/plain": [
       "0            None\n",
       "1            None\n",
       "2       ₹ 343.55 \n",
       "3       ₹ 343.65 \n",
       "4       ₹ 347.45 \n",
       "          ...    \n",
       "235           NaN\n",
       "236           NaN\n",
       "237           NaN\n",
       "238           NaN\n",
       "239           NaN\n",
       "Name: Sale_2Monthback, Length: 240, dtype: object"
      ]
     },
     "execution_count": 134,
     "metadata": {},
     "output_type": "execute_result"
    }
   ],
   "source": [
    "stockprices['Sale_2Monthback']\n"
   ]
  },
  {
   "cell_type": "code",
   "execution_count": null,
   "metadata": {},
   "outputs": [
    {
     "data": {
      "text/html": [
       "<div>\n",
       "<style scoped>\n",
       "    .dataframe tbody tr th:only-of-type {\n",
       "        vertical-align: middle;\n",
       "    }\n",
       "\n",
       "    .dataframe tbody tr th {\n",
       "        vertical-align: top;\n",
       "    }\n",
       "\n",
       "    .dataframe thead th {\n",
       "        text-align: right;\n",
       "    }\n",
       "</style>\n",
       "<table border=\"1\" class=\"dataframe\">\n",
       "  <thead>\n",
       "    <tr style=\"text-align: right;\">\n",
       "      <th></th>\n",
       "      <th>Date</th>\n",
       "      <th>Close</th>\n",
       "      <th>Sale_LastMonth</th>\n",
       "      <th>Sale_2Monthback</th>\n",
       "      <th>Sale_3LastMonth</th>\n",
       "    </tr>\n",
       "  </thead>\n",
       "  <tbody>\n",
       "    <tr>\n",
       "      <th>220</th>\n",
       "      <td>22-11-2023</td>\n",
       "      <td>₹ 559.65</td>\n",
       "      <td>₹ 567.40</td>\n",
       "      <td>₹ 577.15</td>\n",
       "      <td>₹ 587.40</td>\n",
       "    </tr>\n",
       "    <tr>\n",
       "      <th>221</th>\n",
       "      <td>23-11-2023</td>\n",
       "      <td>₹ 547.05</td>\n",
       "      <td>₹ 559.65</td>\n",
       "      <td>₹ 567.40</td>\n",
       "      <td>₹ 577.15</td>\n",
       "    </tr>\n",
       "    <tr>\n",
       "      <th>222</th>\n",
       "      <td>24-11-2023</td>\n",
       "      <td>₹ 537.80</td>\n",
       "      <td>₹ 547.05</td>\n",
       "      <td>₹ 559.65</td>\n",
       "      <td>₹ 567.40</td>\n",
       "    </tr>\n",
       "    <tr>\n",
       "      <th>223</th>\n",
       "      <td>28-11-2023</td>\n",
       "      <td>₹ 529.20</td>\n",
       "      <td>₹ 537.80</td>\n",
       "      <td>₹ 547.05</td>\n",
       "      <td>₹ 559.65</td>\n",
       "    </tr>\n",
       "    <tr>\n",
       "      <th>224</th>\n",
       "      <td>29-11-2023</td>\n",
       "      <td>₹ 534.55</td>\n",
       "      <td>₹ 529.20</td>\n",
       "      <td>₹ 537.80</td>\n",
       "      <td>₹ 547.05</td>\n",
       "    </tr>\n",
       "    <tr>\n",
       "      <th>225</th>\n",
       "      <td>30-11-2023</td>\n",
       "      <td>₹ 527.00</td>\n",
       "      <td>₹ 534.55</td>\n",
       "      <td>₹ 529.20</td>\n",
       "      <td>₹ 537.80</td>\n",
       "    </tr>\n",
       "    <tr>\n",
       "      <th>226</th>\n",
       "      <td>01-12-2023</td>\n",
       "      <td>₹ 506.95</td>\n",
       "      <td>₹ 527.00</td>\n",
       "      <td>₹ 534.55</td>\n",
       "      <td>₹ 529.20</td>\n",
       "    </tr>\n",
       "    <tr>\n",
       "      <th>227</th>\n",
       "      <td>04-12-2023</td>\n",
       "      <td>₹ 506.10</td>\n",
       "      <td>₹ 506.95</td>\n",
       "      <td>₹ 527.00</td>\n",
       "      <td>₹ 534.55</td>\n",
       "    </tr>\n",
       "    <tr>\n",
       "      <th>228</th>\n",
       "      <td>05-12-2023</td>\n",
       "      <td>₹ 517.30</td>\n",
       "      <td>₹ 506.10</td>\n",
       "      <td>₹ 506.95</td>\n",
       "      <td>₹ 527.00</td>\n",
       "    </tr>\n",
       "    <tr>\n",
       "      <th>229</th>\n",
       "      <td>06-12-2023</td>\n",
       "      <td>₹ 510.60</td>\n",
       "      <td>₹ 517.30</td>\n",
       "      <td>₹ 506.10</td>\n",
       "      <td>₹ 506.95</td>\n",
       "    </tr>\n",
       "    <tr>\n",
       "      <th>230</th>\n",
       "      <td>07-12-2023</td>\n",
       "      <td>₹ 535.05</td>\n",
       "      <td>₹ 510.60</td>\n",
       "      <td>₹ 517.30</td>\n",
       "      <td>₹ 506.10</td>\n",
       "    </tr>\n",
       "    <tr>\n",
       "      <th>231</th>\n",
       "      <td>08-12-2023</td>\n",
       "      <td>₹ 524.90</td>\n",
       "      <td>₹ 535.05</td>\n",
       "      <td>₹ 510.60</td>\n",
       "      <td>₹ 517.30</td>\n",
       "    </tr>\n",
       "    <tr>\n",
       "      <th>232</th>\n",
       "      <td>NaN</td>\n",
       "      <td>NaN</td>\n",
       "      <td>₹ 524.90</td>\n",
       "      <td>₹ 535.05</td>\n",
       "      <td>₹ 510.60</td>\n",
       "    </tr>\n",
       "    <tr>\n",
       "      <th>233</th>\n",
       "      <td>NaN</td>\n",
       "      <td>NaN</td>\n",
       "      <td>NaN</td>\n",
       "      <td>₹ 524.90</td>\n",
       "      <td>₹ 535.05</td>\n",
       "    </tr>\n",
       "    <tr>\n",
       "      <th>234</th>\n",
       "      <td>NaN</td>\n",
       "      <td>NaN</td>\n",
       "      <td>NaN</td>\n",
       "      <td>NaN</td>\n",
       "      <td>₹ 524.90</td>\n",
       "    </tr>\n",
       "    <tr>\n",
       "      <th>235</th>\n",
       "      <td>NaN</td>\n",
       "      <td>NaN</td>\n",
       "      <td>NaN</td>\n",
       "      <td>NaN</td>\n",
       "      <td>NaN</td>\n",
       "    </tr>\n",
       "    <tr>\n",
       "      <th>236</th>\n",
       "      <td>NaN</td>\n",
       "      <td>NaN</td>\n",
       "      <td>NaN</td>\n",
       "      <td>NaN</td>\n",
       "      <td>NaN</td>\n",
       "    </tr>\n",
       "    <tr>\n",
       "      <th>237</th>\n",
       "      <td>NaN</td>\n",
       "      <td>NaN</td>\n",
       "      <td>NaN</td>\n",
       "      <td>NaN</td>\n",
       "      <td>NaN</td>\n",
       "    </tr>\n",
       "    <tr>\n",
       "      <th>238</th>\n",
       "      <td>NaN</td>\n",
       "      <td>NaN</td>\n",
       "      <td>NaN</td>\n",
       "      <td>NaN</td>\n",
       "      <td>NaN</td>\n",
       "    </tr>\n",
       "    <tr>\n",
       "      <th>239</th>\n",
       "      <td>NaN</td>\n",
       "      <td>NaN</td>\n",
       "      <td>NaN</td>\n",
       "      <td>NaN</td>\n",
       "      <td>NaN</td>\n",
       "    </tr>\n",
       "  </tbody>\n",
       "</table>\n",
       "</div>"
      ],
      "text/plain": [
       "           Date       Close Sale_LastMonth Sale_2Monthback Sale_3LastMonth\n",
       "220  22-11-2023   ₹ 559.65       ₹ 567.40        ₹ 577.15        ₹ 587.40 \n",
       "221  23-11-2023   ₹ 547.05       ₹ 559.65        ₹ 567.40        ₹ 577.15 \n",
       "222  24-11-2023   ₹ 537.80       ₹ 547.05        ₹ 559.65        ₹ 567.40 \n",
       "223  28-11-2023   ₹ 529.20       ₹ 537.80        ₹ 547.05        ₹ 559.65 \n",
       "224  29-11-2023   ₹ 534.55       ₹ 529.20        ₹ 537.80        ₹ 547.05 \n",
       "225  30-11-2023   ₹ 527.00       ₹ 534.55        ₹ 529.20        ₹ 537.80 \n",
       "226  01-12-2023   ₹ 506.95       ₹ 527.00        ₹ 534.55        ₹ 529.20 \n",
       "227  04-12-2023   ₹ 506.10       ₹ 506.95        ₹ 527.00        ₹ 534.55 \n",
       "228  05-12-2023   ₹ 517.30       ₹ 506.10        ₹ 506.95        ₹ 527.00 \n",
       "229  06-12-2023   ₹ 510.60       ₹ 517.30        ₹ 506.10        ₹ 506.95 \n",
       "230  07-12-2023   ₹ 535.05       ₹ 510.60        ₹ 517.30        ₹ 506.10 \n",
       "231  08-12-2023   ₹ 524.90       ₹ 535.05        ₹ 510.60        ₹ 517.30 \n",
       "232         NaN         NaN      ₹ 524.90        ₹ 535.05        ₹ 510.60 \n",
       "233         NaN         NaN            NaN       ₹ 524.90        ₹ 535.05 \n",
       "234         NaN         NaN            NaN             NaN       ₹ 524.90 \n",
       "235         NaN         NaN            NaN             NaN             NaN\n",
       "236         NaN         NaN            NaN             NaN             NaN\n",
       "237         NaN         NaN            NaN             NaN             NaN\n",
       "238         NaN         NaN            NaN             NaN             NaN\n",
       "239         NaN         NaN            NaN             NaN             NaN"
      ]
     },
     "execution_count": 137,
     "metadata": {},
     "output_type": "execute_result"
    }
   ],
   "source": [
    "stockprices.tail(20)"
   ]
  },
  {
   "cell_type": "code",
   "execution_count": null,
   "metadata": {},
   "outputs": [],
   "source": [
    "stockprices.dropna(inplace = True)"
   ]
  },
  {
   "cell_type": "code",
   "execution_count": null,
   "metadata": {},
   "outputs": [
    {
     "data": {
      "text/html": [
       "<div>\n",
       "<style scoped>\n",
       "    .dataframe tbody tr th:only-of-type {\n",
       "        vertical-align: middle;\n",
       "    }\n",
       "\n",
       "    .dataframe tbody tr th {\n",
       "        vertical-align: top;\n",
       "    }\n",
       "\n",
       "    .dataframe thead th {\n",
       "        text-align: right;\n",
       "    }\n",
       "</style>\n",
       "<table border=\"1\" class=\"dataframe\">\n",
       "  <thead>\n",
       "    <tr style=\"text-align: right;\">\n",
       "      <th></th>\n",
       "      <th>Close</th>\n",
       "      <th>Sale_LastMonth</th>\n",
       "      <th>Sale_2Monthback</th>\n",
       "      <th>Sale_3LastMonth</th>\n",
       "    </tr>\n",
       "    <tr>\n",
       "      <th>Date</th>\n",
       "      <th></th>\n",
       "      <th></th>\n",
       "      <th></th>\n",
       "      <th></th>\n",
       "    </tr>\n",
       "  </thead>\n",
       "  <tbody>\n",
       "    <tr>\n",
       "      <th>19-10-2023</th>\n",
       "      <td>₹ 613.70</td>\n",
       "      <td>₹ 602.45</td>\n",
       "      <td>₹ 619.60</td>\n",
       "      <td>₹ 610.35</td>\n",
       "    </tr>\n",
       "    <tr>\n",
       "      <th>20-10-2023</th>\n",
       "      <td>₹ 621.45</td>\n",
       "      <td>₹ 613.70</td>\n",
       "      <td>₹ 602.45</td>\n",
       "      <td>₹ 619.60</td>\n",
       "    </tr>\n",
       "    <tr>\n",
       "      <th>23-10-2023</th>\n",
       "      <td>₹ 600.70</td>\n",
       "      <td>₹ 621.45</td>\n",
       "      <td>₹ 613.70</td>\n",
       "      <td>₹ 602.45</td>\n",
       "    </tr>\n",
       "    <tr>\n",
       "      <th>25-10-2023</th>\n",
       "      <td>₹ 607.85</td>\n",
       "      <td>₹ 600.70</td>\n",
       "      <td>₹ 621.45</td>\n",
       "      <td>₹ 613.70</td>\n",
       "    </tr>\n",
       "    <tr>\n",
       "      <th>26-10-2023</th>\n",
       "      <td>₹ 600.95</td>\n",
       "      <td>₹ 607.85</td>\n",
       "      <td>₹ 600.70</td>\n",
       "      <td>₹ 621.45</td>\n",
       "    </tr>\n",
       "    <tr>\n",
       "      <th>27-10-2023</th>\n",
       "      <td>₹ 609.70</td>\n",
       "      <td>₹ 600.95</td>\n",
       "      <td>₹ 607.85</td>\n",
       "      <td>₹ 600.70</td>\n",
       "    </tr>\n",
       "    <tr>\n",
       "      <th>30-10-2023</th>\n",
       "      <td>₹ 601.10</td>\n",
       "      <td>₹ 609.70</td>\n",
       "      <td>₹ 600.95</td>\n",
       "      <td>₹ 607.85</td>\n",
       "    </tr>\n",
       "    <tr>\n",
       "      <th>31-10-2023</th>\n",
       "      <td>₹ 608.70</td>\n",
       "      <td>₹ 601.10</td>\n",
       "      <td>₹ 609.70</td>\n",
       "      <td>₹ 600.95</td>\n",
       "    </tr>\n",
       "    <tr>\n",
       "      <th>01-11-2023</th>\n",
       "      <td>₹ 610.20</td>\n",
       "      <td>₹ 608.70</td>\n",
       "      <td>₹ 601.10</td>\n",
       "      <td>₹ 609.70</td>\n",
       "    </tr>\n",
       "    <tr>\n",
       "      <th>02-11-2023</th>\n",
       "      <td>₹ 632.40</td>\n",
       "      <td>₹ 610.20</td>\n",
       "      <td>₹ 608.70</td>\n",
       "      <td>₹ 601.10</td>\n",
       "    </tr>\n",
       "    <tr>\n",
       "      <th>03-11-2023</th>\n",
       "      <td>₹ 657.55</td>\n",
       "      <td>₹ 632.40</td>\n",
       "      <td>₹ 610.20</td>\n",
       "      <td>₹ 608.70</td>\n",
       "    </tr>\n",
       "    <tr>\n",
       "      <th>06-11-2023</th>\n",
       "      <td>₹ 666.45</td>\n",
       "      <td>₹ 657.55</td>\n",
       "      <td>₹ 632.40</td>\n",
       "      <td>₹ 610.20</td>\n",
       "    </tr>\n",
       "    <tr>\n",
       "      <th>07-11-2023</th>\n",
       "      <td>₹ 678.10</td>\n",
       "      <td>₹ 666.45</td>\n",
       "      <td>₹ 657.55</td>\n",
       "      <td>₹ 632.40</td>\n",
       "    </tr>\n",
       "    <tr>\n",
       "      <th>08-11-2023</th>\n",
       "      <td>₹ 651.70</td>\n",
       "      <td>₹ 678.10</td>\n",
       "      <td>₹ 666.45</td>\n",
       "      <td>₹ 657.55</td>\n",
       "    </tr>\n",
       "    <tr>\n",
       "      <th>09-11-2023</th>\n",
       "      <td>₹ 566.40</td>\n",
       "      <td>₹ 651.70</td>\n",
       "      <td>₹ 678.10</td>\n",
       "      <td>₹ 666.45</td>\n",
       "    </tr>\n",
       "    <tr>\n",
       "      <th>10-11-2023</th>\n",
       "      <td>₹ 569.10</td>\n",
       "      <td>₹ 566.40</td>\n",
       "      <td>₹ 651.70</td>\n",
       "      <td>₹ 678.10</td>\n",
       "    </tr>\n",
       "    <tr>\n",
       "      <th>12-11-2023</th>\n",
       "      <td>₹ 568.70</td>\n",
       "      <td>₹ 569.10</td>\n",
       "      <td>₹ 566.40</td>\n",
       "      <td>₹ 651.70</td>\n",
       "    </tr>\n",
       "    <tr>\n",
       "      <th>13-11-2023</th>\n",
       "      <td>₹ 560.55</td>\n",
       "      <td>₹ 568.70</td>\n",
       "      <td>₹ 569.10</td>\n",
       "      <td>₹ 566.40</td>\n",
       "    </tr>\n",
       "    <tr>\n",
       "      <th>15-11-2023</th>\n",
       "      <td>₹ 571.65</td>\n",
       "      <td>₹ 560.55</td>\n",
       "      <td>₹ 568.70</td>\n",
       "      <td>₹ 569.10</td>\n",
       "    </tr>\n",
       "    <tr>\n",
       "      <th>16-11-2023</th>\n",
       "      <td>₹ 564.85</td>\n",
       "      <td>₹ 571.65</td>\n",
       "      <td>₹ 560.55</td>\n",
       "      <td>₹ 568.70</td>\n",
       "    </tr>\n",
       "    <tr>\n",
       "      <th>17-11-2023</th>\n",
       "      <td>₹ 587.40</td>\n",
       "      <td>₹ 564.85</td>\n",
       "      <td>₹ 571.65</td>\n",
       "      <td>₹ 560.55</td>\n",
       "    </tr>\n",
       "    <tr>\n",
       "      <th>20-11-2023</th>\n",
       "      <td>₹ 577.15</td>\n",
       "      <td>₹ 587.40</td>\n",
       "      <td>₹ 564.85</td>\n",
       "      <td>₹ 571.65</td>\n",
       "    </tr>\n",
       "    <tr>\n",
       "      <th>21-11-2023</th>\n",
       "      <td>₹ 567.40</td>\n",
       "      <td>₹ 577.15</td>\n",
       "      <td>₹ 587.40</td>\n",
       "      <td>₹ 564.85</td>\n",
       "    </tr>\n",
       "    <tr>\n",
       "      <th>22-11-2023</th>\n",
       "      <td>₹ 559.65</td>\n",
       "      <td>₹ 567.40</td>\n",
       "      <td>₹ 577.15</td>\n",
       "      <td>₹ 587.40</td>\n",
       "    </tr>\n",
       "    <tr>\n",
       "      <th>23-11-2023</th>\n",
       "      <td>₹ 547.05</td>\n",
       "      <td>₹ 559.65</td>\n",
       "      <td>₹ 567.40</td>\n",
       "      <td>₹ 577.15</td>\n",
       "    </tr>\n",
       "    <tr>\n",
       "      <th>24-11-2023</th>\n",
       "      <td>₹ 537.80</td>\n",
       "      <td>₹ 547.05</td>\n",
       "      <td>₹ 559.65</td>\n",
       "      <td>₹ 567.40</td>\n",
       "    </tr>\n",
       "    <tr>\n",
       "      <th>28-11-2023</th>\n",
       "      <td>₹ 529.20</td>\n",
       "      <td>₹ 537.80</td>\n",
       "      <td>₹ 547.05</td>\n",
       "      <td>₹ 559.65</td>\n",
       "    </tr>\n",
       "    <tr>\n",
       "      <th>29-11-2023</th>\n",
       "      <td>₹ 534.55</td>\n",
       "      <td>₹ 529.20</td>\n",
       "      <td>₹ 537.80</td>\n",
       "      <td>₹ 547.05</td>\n",
       "    </tr>\n",
       "    <tr>\n",
       "      <th>30-11-2023</th>\n",
       "      <td>₹ 527.00</td>\n",
       "      <td>₹ 534.55</td>\n",
       "      <td>₹ 529.20</td>\n",
       "      <td>₹ 537.80</td>\n",
       "    </tr>\n",
       "    <tr>\n",
       "      <th>01-12-2023</th>\n",
       "      <td>₹ 506.95</td>\n",
       "      <td>₹ 527.00</td>\n",
       "      <td>₹ 534.55</td>\n",
       "      <td>₹ 529.20</td>\n",
       "    </tr>\n",
       "    <tr>\n",
       "      <th>04-12-2023</th>\n",
       "      <td>₹ 506.10</td>\n",
       "      <td>₹ 506.95</td>\n",
       "      <td>₹ 527.00</td>\n",
       "      <td>₹ 534.55</td>\n",
       "    </tr>\n",
       "    <tr>\n",
       "      <th>05-12-2023</th>\n",
       "      <td>₹ 517.30</td>\n",
       "      <td>₹ 506.10</td>\n",
       "      <td>₹ 506.95</td>\n",
       "      <td>₹ 527.00</td>\n",
       "    </tr>\n",
       "    <tr>\n",
       "      <th>06-12-2023</th>\n",
       "      <td>₹ 510.60</td>\n",
       "      <td>₹ 517.30</td>\n",
       "      <td>₹ 506.10</td>\n",
       "      <td>₹ 506.95</td>\n",
       "    </tr>\n",
       "    <tr>\n",
       "      <th>07-12-2023</th>\n",
       "      <td>₹ 535.05</td>\n",
       "      <td>₹ 510.60</td>\n",
       "      <td>₹ 517.30</td>\n",
       "      <td>₹ 506.10</td>\n",
       "    </tr>\n",
       "    <tr>\n",
       "      <th>08-12-2023</th>\n",
       "      <td>₹ 524.90</td>\n",
       "      <td>₹ 535.05</td>\n",
       "      <td>₹ 510.60</td>\n",
       "      <td>₹ 517.30</td>\n",
       "    </tr>\n",
       "  </tbody>\n",
       "</table>\n",
       "</div>"
      ],
      "text/plain": [
       "                 Close Sale_LastMonth Sale_2Monthback Sale_3LastMonth\n",
       "Date                                                                 \n",
       "19-10-2023   ₹ 613.70       ₹ 602.45        ₹ 619.60        ₹ 610.35 \n",
       "20-10-2023   ₹ 621.45       ₹ 613.70        ₹ 602.45        ₹ 619.60 \n",
       "23-10-2023   ₹ 600.70       ₹ 621.45        ₹ 613.70        ₹ 602.45 \n",
       "25-10-2023   ₹ 607.85       ₹ 600.70        ₹ 621.45        ₹ 613.70 \n",
       "26-10-2023   ₹ 600.95       ₹ 607.85        ₹ 600.70        ₹ 621.45 \n",
       "27-10-2023   ₹ 609.70       ₹ 600.95        ₹ 607.85        ₹ 600.70 \n",
       "30-10-2023   ₹ 601.10       ₹ 609.70        ₹ 600.95        ₹ 607.85 \n",
       "31-10-2023   ₹ 608.70       ₹ 601.10        ₹ 609.70        ₹ 600.95 \n",
       "01-11-2023   ₹ 610.20       ₹ 608.70        ₹ 601.10        ₹ 609.70 \n",
       "02-11-2023   ₹ 632.40       ₹ 610.20        ₹ 608.70        ₹ 601.10 \n",
       "03-11-2023   ₹ 657.55       ₹ 632.40        ₹ 610.20        ₹ 608.70 \n",
       "06-11-2023   ₹ 666.45       ₹ 657.55        ₹ 632.40        ₹ 610.20 \n",
       "07-11-2023   ₹ 678.10       ₹ 666.45        ₹ 657.55        ₹ 632.40 \n",
       "08-11-2023   ₹ 651.70       ₹ 678.10        ₹ 666.45        ₹ 657.55 \n",
       "09-11-2023   ₹ 566.40       ₹ 651.70        ₹ 678.10        ₹ 666.45 \n",
       "10-11-2023   ₹ 569.10       ₹ 566.40        ₹ 651.70        ₹ 678.10 \n",
       "12-11-2023   ₹ 568.70       ₹ 569.10        ₹ 566.40        ₹ 651.70 \n",
       "13-11-2023   ₹ 560.55       ₹ 568.70        ₹ 569.10        ₹ 566.40 \n",
       "15-11-2023   ₹ 571.65       ₹ 560.55        ₹ 568.70        ₹ 569.10 \n",
       "16-11-2023   ₹ 564.85       ₹ 571.65        ₹ 560.55        ₹ 568.70 \n",
       "17-11-2023   ₹ 587.40       ₹ 564.85        ₹ 571.65        ₹ 560.55 \n",
       "20-11-2023   ₹ 577.15       ₹ 587.40        ₹ 564.85        ₹ 571.65 \n",
       "21-11-2023   ₹ 567.40       ₹ 577.15        ₹ 587.40        ₹ 564.85 \n",
       "22-11-2023   ₹ 559.65       ₹ 567.40        ₹ 577.15        ₹ 587.40 \n",
       "23-11-2023   ₹ 547.05       ₹ 559.65        ₹ 567.40        ₹ 577.15 \n",
       "24-11-2023   ₹ 537.80       ₹ 547.05        ₹ 559.65        ₹ 567.40 \n",
       "28-11-2023   ₹ 529.20       ₹ 537.80        ₹ 547.05        ₹ 559.65 \n",
       "29-11-2023   ₹ 534.55       ₹ 529.20        ₹ 537.80        ₹ 547.05 \n",
       "30-11-2023   ₹ 527.00       ₹ 534.55        ₹ 529.20        ₹ 537.80 \n",
       "01-12-2023   ₹ 506.95       ₹ 527.00        ₹ 534.55        ₹ 529.20 \n",
       "04-12-2023   ₹ 506.10       ₹ 506.95        ₹ 527.00        ₹ 534.55 \n",
       "05-12-2023   ₹ 517.30       ₹ 506.10        ₹ 506.95        ₹ 527.00 \n",
       "06-12-2023   ₹ 510.60       ₹ 517.30        ₹ 506.10        ₹ 506.95 \n",
       "07-12-2023   ₹ 535.05       ₹ 510.60        ₹ 517.30        ₹ 506.10 \n",
       "08-12-2023   ₹ 524.90       ₹ 535.05        ₹ 510.60        ₹ 517.30 "
      ]
     },
     "execution_count": 151,
     "metadata": {},
     "output_type": "execute_result"
    }
   ],
   "source": [
    "stockprices.tail(35)"
   ]
  },
  {
   "cell_type": "code",
   "execution_count": null,
   "metadata": {},
   "outputs": [],
   "source": [
    "import matplotlib.pyplot as plt"
   ]
  },
  {
   "cell_type": "code",
   "execution_count": null,
   "metadata": {},
   "outputs": [],
   "source": [
    "x = ['Date']\n",
    "y = ['Close']"
   ]
  },
  {
   "cell_type": "code",
   "execution_count": null,
   "metadata": {},
   "outputs": [
    {
     "data": {
      "text/html": [
       "<div>\n",
       "<style scoped>\n",
       "    .dataframe tbody tr th:only-of-type {\n",
       "        vertical-align: middle;\n",
       "    }\n",
       "\n",
       "    .dataframe tbody tr th {\n",
       "        vertical-align: top;\n",
       "    }\n",
       "\n",
       "    .dataframe thead th {\n",
       "        text-align: right;\n",
       "    }\n",
       "</style>\n",
       "<table border=\"1\" class=\"dataframe\">\n",
       "  <thead>\n",
       "    <tr style=\"text-align: right;\">\n",
       "      <th></th>\n",
       "      <th>Date</th>\n",
       "      <th>Close</th>\n",
       "    </tr>\n",
       "  </thead>\n",
       "  <tbody>\n",
       "    <tr>\n",
       "      <th>0</th>\n",
       "      <td>02-01-2023</td>\n",
       "      <td>₹ 343.55</td>\n",
       "    </tr>\n",
       "    <tr>\n",
       "      <th>1</th>\n",
       "      <td>03-01-2023</td>\n",
       "      <td>₹ 343.65</td>\n",
       "    </tr>\n",
       "    <tr>\n",
       "      <th>2</th>\n",
       "      <td>04-01-2023</td>\n",
       "      <td>₹ 347.45</td>\n",
       "    </tr>\n",
       "    <tr>\n",
       "      <th>3</th>\n",
       "      <td>05-01-2023</td>\n",
       "      <td>₹ 349.00</td>\n",
       "    </tr>\n",
       "    <tr>\n",
       "      <th>4</th>\n",
       "      <td>06-01-2023</td>\n",
       "      <td>₹ 345.10</td>\n",
       "    </tr>\n",
       "  </tbody>\n",
       "</table>\n",
       "</div>"
      ],
      "text/plain": [
       "         Date       Close\n",
       "0  02-01-2023   ₹ 343.55 \n",
       "1  03-01-2023   ₹ 343.65 \n",
       "2  04-01-2023   ₹ 347.45 \n",
       "3  05-01-2023   ₹ 349.00 \n",
       "4  06-01-2023   ₹ 345.10 "
      ]
     },
     "execution_count": 19,
     "metadata": {},
     "output_type": "execute_result"
    }
   ],
   "source": [
    "stockprices.head()"
   ]
  },
  {
   "cell_type": "code",
   "execution_count": null,
   "metadata": {},
   "outputs": [
    {
     "data": {
      "text/plain": [
       "(0, 2)"
      ]
     },
     "execution_count": 21,
     "metadata": {},
     "output_type": "execute_result"
    }
   ],
   "source": [
    "stockprices[stockprices['Date'] == stockprices['Close']].shape"
   ]
  },
  {
   "cell_type": "code",
   "execution_count": null,
   "metadata": {},
   "outputs": [],
   "source": [
    "from sklearn.linear_model import LinearRegression\n",
    "lin_model = LinearRegression()"
   ]
  },
  {
   "cell_type": "code",
   "execution_count": null,
   "metadata": {},
   "outputs": [],
   "source": [
    "from sklearn.ensemble import RandomForestRegressor\n",
    "model = RandomForestRegressor(n_estimators=100, max_features=3, random_state=1)"
   ]
  },
  {
   "cell_type": "code",
   "execution_count": null,
   "metadata": {},
   "outputs": [],
   "source": [
    "import numpy as np \n",
    "x1,x2,x3,y = stockprices['Sale_2Monthback'],stockprices['s']\n"
   ]
  },
  {
   "cell_type": "code",
   "execution_count": null,
   "metadata": {},
   "outputs": [
    {
     "data": {
      "text/html": [
       "<div>\n",
       "<style scoped>\n",
       "    .dataframe tbody tr th:only-of-type {\n",
       "        vertical-align: middle;\n",
       "    }\n",
       "\n",
       "    .dataframe tbody tr th {\n",
       "        vertical-align: top;\n",
       "    }\n",
       "\n",
       "    .dataframe thead th {\n",
       "        text-align: right;\n",
       "    }\n",
       "</style>\n",
       "<table border=\"1\" class=\"dataframe\">\n",
       "  <thead>\n",
       "    <tr style=\"text-align: right;\">\n",
       "      <th></th>\n",
       "      <th>Price</th>\n",
       "      <th>Value</th>\n",
       "    </tr>\n",
       "  </thead>\n",
       "  <tbody>\n",
       "    <tr>\n",
       "      <th>0</th>\n",
       "      <td>45</td>\n",
       "      <td>45</td>\n",
       "    </tr>\n",
       "    <tr>\n",
       "      <th>1</th>\n",
       "      <td>36</td>\n",
       "      <td>37</td>\n",
       "    </tr>\n",
       "    <tr>\n",
       "      <th>2</th>\n",
       "      <td>38</td>\n",
       "      <td>68</td>\n",
       "    </tr>\n",
       "    <tr>\n",
       "      <th>3</th>\n",
       "      <td>44</td>\n",
       "      <td>44</td>\n",
       "    </tr>\n",
       "    <tr>\n",
       "      <th>4</th>\n",
       "      <td>59</td>\n",
       "      <td>80</td>\n",
       "    </tr>\n",
       "  </tbody>\n",
       "</table>\n",
       "</div>"
      ],
      "text/plain": [
       "   Price  Value\n",
       "0     45     45\n",
       "1     36     37\n",
       "2     38     68\n",
       "3     44     44\n",
       "4     59     80"
      ]
     },
     "execution_count": 32,
     "metadata": {},
     "output_type": "execute_result"
    }
   ],
   "source": [
    "Manipulated"
   ]
  },
  {
   "cell_type": "code",
   "execution_count": null,
   "metadata": {},
   "outputs": [
    {
     "data": {
      "text/plain": [
       "(2, 2)"
      ]
     },
     "execution_count": 34,
     "metadata": {},
     "output_type": "execute_result"
    }
   ],
   "source": [
    "Manipulated[Manipulated['Price'] == Manipulated['Value']].shape"
   ]
  },
  {
   "cell_type": "code",
   "execution_count": null,
   "metadata": {},
   "outputs": [
    {
     "data": {
      "text/plain": [
       "<bound method DataFrame.info of    Price  Value\n",
       "0     45     45\n",
       "1     36     37\n",
       "2     38     68\n",
       "3     44     44\n",
       "4     59     80>"
      ]
     },
     "execution_count": 35,
     "metadata": {},
     "output_type": "execute_result"
    }
   ],
   "source": [
    "Manipulated.info"
   ]
  },
  {
   "cell_type": "code",
   "execution_count": null,
   "metadata": {},
   "outputs": [],
   "source": [
    "import matplotlib.pyplot as plt"
   ]
  },
  {
   "cell_type": "code",
   "execution_count": null,
   "metadata": {},
   "outputs": [
    {
     "data": {
      "text/plain": [
       "[<matplotlib.lines.Line2D at 0x1f263cca810>]"
      ]
     },
     "execution_count": 58,
     "metadata": {},
     "output_type": "execute_result"
    },
    {
     "data": {
      "image/png": "[encoded data removed]",
      "text/plain": [
       "<Figure size 2000x500 with 1 Axes>"
      ]
     },
     "metadata": {},
     "output_type": "display_data"
    }
   ],
   "source": [
    "plt.figure(figsize=(20,5))\n",
    "plt.plot(Manipulated['Value'])\n",
    "# plt.show()"
   ]
  },
  {
   "cell_type": "code",
   "execution_count": null,
   "metadata": {},
   "outputs": [
    {
     "data": {
      "text/plain": [
       "Price    0\n",
       "Value    0\n",
       "dtype: int64"
      ]
     },
     "execution_count": 59,
     "metadata": {},
     "output_type": "execute_result"
    }
   ],
   "source": [
    "Manipulated.isnull().sum()"
   ]
  }
 ],
 "metadata": {
  "kernelspec": {
   "display_name": "Python 3",
   "language": "python",
   "name": "python3"
  },
  "language_info": {
   "codemirror_mode": {
    "name": "ipython",
    "version": 3
   },
   "file_extension": ".py",
   "mimetype": "text/x-python",
   "name": "python",
   "nbconvert_exporter": "python",
   "pygments_lexer": "ipython3",
   "version": "3.11.4"
  }
 },
 "nbformat": 4,
 "nbformat_minor": 2
}
